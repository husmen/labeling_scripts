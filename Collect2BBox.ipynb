{
 "cells": [
  {
   "cell_type": "markdown",
   "metadata": {},
   "source": [
    "# Collect2BBox\n",
    "\n",
    "cropping raw images to 1280x640 before feeding to YOLO"
   ]
  },
  {
   "cell_type": "code",
   "execution_count": 1,
   "metadata": {},
   "outputs": [],
   "source": [
    "from shutil import copyfile\n",
    "from PIL import Image\n",
    "import os\n",
    "import random\n",
    "import pandas as pd\n",
    "import cv2"
   ]
  },
  {
   "cell_type": "code",
   "execution_count": 2,
   "metadata": {},
   "outputs": [],
   "source": [
    "images_input = \"yolo_signs_input/\"\n",
    "images_output = \"yolo_signs_images/\""
   ]
  },
  {
   "cell_type": "code",
   "execution_count": 3,
   "metadata": {
    "scrolled": true
   },
   "outputs": [],
   "source": [
    "for root, dirs, files in os.walk(images_input):\n",
    "        for file in files:\n",
    "            path = os.path.join(root,file)\n",
    "            file_dir = os.path.dirname(path).replace(images_input,images_output)\n",
    "            if not os.path.exists(file_dir):\n",
    "                os.makedirs(file_dir)\n",
    "            file_name = os.path.basename(path).split('.')[0] + \".jpg\"\n",
    "            file_path = os.path.join(file_dir,file_name)\n",
    "            \n",
    "            try:\n",
    "                img = cv2.imread(path)\n",
    "                img = img[:640,:,:]\n",
    "            except Exception as e:\n",
    "                print(\"ERROR: {}\\n\".format(file_path))\n",
    "            else:\n",
    "                cv2.imwrite(file_path, img)"
   ]
  },
  {
   "cell_type": "code",
   "execution_count": null,
   "metadata": {},
   "outputs": [],
   "source": []
  }
 ],
 "metadata": {
  "kernelspec": {
   "display_name": "Python 2",
   "language": "python",
   "name": "python2"
  },
  "language_info": {
   "codemirror_mode": {
    "name": "ipython",
    "version": 2
   },
   "file_extension": ".py",
   "mimetype": "text/x-python",
   "name": "python",
   "nbconvert_exporter": "python",
   "pygments_lexer": "ipython2",
   "version": "2.7.15"
  }
 },
 "nbformat": 4,
 "nbformat_minor": 2
}
