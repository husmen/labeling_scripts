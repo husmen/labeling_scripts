{
 "cells": [
  {
   "cell_type": "markdown",
   "metadata": {},
   "source": [
    "# Rename\n",
    "\n",
    "Re"
   ]
  },
  {
   "cell_type": "code",
   "execution_count": 1,
   "metadata": {},
   "outputs": [],
   "source": [
    "from shutil import copyfile\n",
    "from PIL import Image\n",
    "import os\n",
    "import random\n",
    "import pandas as pd\n",
    "import cv2"
   ]
  },
  {
   "cell_type": "code",
   "execution_count": 2,
   "metadata": {},
   "outputs": [
    {
     "name": "stdout",
     "output_type": "stream",
     "text": [
      "[0, 0, 0, 0, 0, 0, 0, 0, 0, 0, 0, 0, 0]\n"
     ]
    }
   ],
   "source": [
    "images_dir = \"yolo_signs_images/\"\n",
    "labels_dir = \"yolo_signs_labels/\"\n",
    "\n",
    "classes = [\n",
    "    \"Dont_Enter\",\n",
    "    \"Turn_Left\",\n",
    "    \"Keep_Left\",\n",
    "    \"Straight_Right\",\n",
    "    \"Crosswalk\",\n",
    "    \"Loose_Chippings\",\n",
    "    \"Roadworks\",\n",
    "    \"Park\",\n",
    "    \"Pedestrian\",\n",
    "    \"Lights_Green\",\n",
    "    \"Lights_Red\",\n",
    "    \"Park_Area\",\n",
    "    \"Handicap\"\n",
    "]\n",
    "\n",
    "counters = [0] * len(classes)\n",
    "print(counters)"
   ]
  },
  {
   "cell_type": "code",
   "execution_count": 3,
   "metadata": {
    "scrolled": true
   },
   "outputs": [
    {
     "name": "stdout",
     "output_type": "stream",
     "text": [
      "[1333, 1363, 1384, 1174, 1067, 1357, 1331, 1122, 1340, 1324, 1181, 925, 1148]\n"
     ]
    }
   ],
   "source": [
    "for root, dirs, files in os.walk(labels_dir):\n",
    "        for file in files:\n",
    "            label_path = os.path.join(root,file)\n",
    "            image_path = label_path.replace(labels_dir, images_dir)\n",
    "            image_path = image_path.replace('txt','jpg')\n",
    "            \n",
    "            lbl_str = label_path.split(\"/\")[1]\n",
    "            lbl_id = classes.index(lbl_str)\n",
    "            \n",
    "            nmbr = os.path.basename(image_path).split('.')[0]\n",
    "            nmbr_new = str((lbl_id * 10000) + counters[lbl_id]).zfill(6)\n",
    "            \n",
    "            label_path_new = label_path.replace(nmbr, nmbr_new)\n",
    "            image_path_new = image_path.replace(nmbr, nmbr_new)\n",
    "            \n",
    "            #print(label_path + \" --> \" + label_path_new)\n",
    "            #print(image_path + \" --> \" + image_path_new)\n",
    "            \n",
    "            try:\n",
    "                os.rename(label_path, label_path_new)\n",
    "            except Exception as e:\n",
    "                print(\"ERROR: {} --> {}\".format(label_path, label_path_new))\n",
    "            \n",
    "            try:\n",
    "                os.rename(image_path, image_path_new)\n",
    "            except Exception as e:\n",
    "                print(\"ERROR: {} --> {}\".format(image_path, image_path_new))\n",
    "            \n",
    "            counters[lbl_id] += 1\n",
    "print(counters)"
   ]
  },
  {
   "cell_type": "code",
   "execution_count": null,
   "metadata": {},
   "outputs": [],
   "source": []
  }
 ],
 "metadata": {
  "kernelspec": {
   "display_name": "Python 2",
   "language": "python",
   "name": "python2"
  },
  "language_info": {
   "codemirror_mode": {
    "name": "ipython",
    "version": 2
   },
   "file_extension": ".py",
   "mimetype": "text/x-python",
   "name": "python",
   "nbconvert_exporter": "python",
   "pygments_lexer": "ipython2",
   "version": "2.7.15"
  }
 },
 "nbformat": 4,
 "nbformat_minor": 2
}
